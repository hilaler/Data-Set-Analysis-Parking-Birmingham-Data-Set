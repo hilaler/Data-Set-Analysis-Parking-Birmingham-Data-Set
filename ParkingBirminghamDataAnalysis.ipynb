{
 "cells": [
  {
   "cell_type": "markdown",
   "id": "87144d7c",
   "metadata": {},
   "source": [
    "# Import Library"
   ]
  },
  {
   "cell_type": "code",
   "execution_count": 2,
   "id": "3ec6f397",
   "metadata": {},
   "outputs": [],
   "source": [
    "import numpy as np\n",
    "import pandas as pd\n",
    "import seaborn as sns\n",
    "import matplotlib.pyplot as plt\n",
    "import matplotlib.dates as mdates\n",
    "%matplotlib inline"
   ]
  },
  {
   "cell_type": "markdown",
   "id": "1de4fa82",
   "metadata": {},
   "source": [
    "# Read Dataset"
   ]
  },
  {
   "cell_type": "code",
   "execution_count": 3,
   "id": "95a1b2ec",
   "metadata": {},
   "outputs": [
    {
     "data": {
      "text/html": [
       "<div>\n",
       "<style scoped>\n",
       "    .dataframe tbody tr th:only-of-type {\n",
       "        vertical-align: middle;\n",
       "    }\n",
       "\n",
       "    .dataframe tbody tr th {\n",
       "        vertical-align: top;\n",
       "    }\n",
       "\n",
       "    .dataframe thead th {\n",
       "        text-align: right;\n",
       "    }\n",
       "</style>\n",
       "<table border=\"1\" class=\"dataframe\">\n",
       "  <thead>\n",
       "    <tr style=\"text-align: right;\">\n",
       "      <th></th>\n",
       "      <th>SystemCodeNumber</th>\n",
       "      <th>Capacity</th>\n",
       "      <th>Occupancy</th>\n",
       "      <th>LastUpdated</th>\n",
       "    </tr>\n",
       "  </thead>\n",
       "  <tbody>\n",
       "    <tr>\n",
       "      <th>0</th>\n",
       "      <td>BHMBCCMKT01</td>\n",
       "      <td>577</td>\n",
       "      <td>61</td>\n",
       "      <td>10/4/2016 7:59</td>\n",
       "    </tr>\n",
       "    <tr>\n",
       "      <th>1</th>\n",
       "      <td>BHMBCCMKT01</td>\n",
       "      <td>577</td>\n",
       "      <td>64</td>\n",
       "      <td>10/4/2016 8:25</td>\n",
       "    </tr>\n",
       "    <tr>\n",
       "      <th>2</th>\n",
       "      <td>BHMBCCMKT01</td>\n",
       "      <td>577</td>\n",
       "      <td>80</td>\n",
       "      <td>10/4/2016 8:59</td>\n",
       "    </tr>\n",
       "    <tr>\n",
       "      <th>3</th>\n",
       "      <td>BHMBCCMKT01</td>\n",
       "      <td>577</td>\n",
       "      <td>107</td>\n",
       "      <td>10/4/2016 9:32</td>\n",
       "    </tr>\n",
       "    <tr>\n",
       "      <th>4</th>\n",
       "      <td>BHMBCCMKT01</td>\n",
       "      <td>577</td>\n",
       "      <td>150</td>\n",
       "      <td>10/4/2016 9:59</td>\n",
       "    </tr>\n",
       "    <tr>\n",
       "      <th>...</th>\n",
       "      <td>...</td>\n",
       "      <td>...</td>\n",
       "      <td>...</td>\n",
       "      <td>...</td>\n",
       "    </tr>\n",
       "    <tr>\n",
       "      <th>35712</th>\n",
       "      <td>Shopping</td>\n",
       "      <td>1920</td>\n",
       "      <td>1517</td>\n",
       "      <td>12/19/2016 14:30</td>\n",
       "    </tr>\n",
       "    <tr>\n",
       "      <th>35713</th>\n",
       "      <td>Shopping</td>\n",
       "      <td>1920</td>\n",
       "      <td>1487</td>\n",
       "      <td>12/19/2016 15:03</td>\n",
       "    </tr>\n",
       "    <tr>\n",
       "      <th>35714</th>\n",
       "      <td>Shopping</td>\n",
       "      <td>1920</td>\n",
       "      <td>1432</td>\n",
       "      <td>12/19/2016 15:29</td>\n",
       "    </tr>\n",
       "    <tr>\n",
       "      <th>35715</th>\n",
       "      <td>Shopping</td>\n",
       "      <td>1920</td>\n",
       "      <td>1321</td>\n",
       "      <td>12/19/2016 16:03</td>\n",
       "    </tr>\n",
       "    <tr>\n",
       "      <th>35716</th>\n",
       "      <td>Shopping</td>\n",
       "      <td>1920</td>\n",
       "      <td>1180</td>\n",
       "      <td>12/19/2016 16:30</td>\n",
       "    </tr>\n",
       "  </tbody>\n",
       "</table>\n",
       "<p>35717 rows × 4 columns</p>\n",
       "</div>"
      ],
      "text/plain": [
       "      SystemCodeNumber  Capacity  Occupancy       LastUpdated\n",
       "0          BHMBCCMKT01       577         61    10/4/2016 7:59\n",
       "1          BHMBCCMKT01       577         64    10/4/2016 8:25\n",
       "2          BHMBCCMKT01       577         80    10/4/2016 8:59\n",
       "3          BHMBCCMKT01       577        107    10/4/2016 9:32\n",
       "4          BHMBCCMKT01       577        150    10/4/2016 9:59\n",
       "...                ...       ...        ...               ...\n",
       "35712         Shopping      1920       1517  12/19/2016 14:30\n",
       "35713         Shopping      1920       1487  12/19/2016 15:03\n",
       "35714         Shopping      1920       1432  12/19/2016 15:29\n",
       "35715         Shopping      1920       1321  12/19/2016 16:03\n",
       "35716         Shopping      1920       1180  12/19/2016 16:30\n",
       "\n",
       "[35717 rows x 4 columns]"
      ]
     },
     "execution_count": 3,
     "metadata": {},
     "output_type": "execute_result"
    }
   ],
   "source": [
    "data = pd.read_csv('https://github.com/hilaler/Data-Set-Analysis-Parking-Birmingham-Data-Set/blob/main/dataset.csv?raw=true')\n",
    "data"
   ]
  },
  {
   "cell_type": "markdown",
   "id": "556ee7a7",
   "metadata": {},
   "source": [
    "# Data Pre-Processing"
   ]
  },
  {
   "cell_type": "code",
   "execution_count": null,
   "id": "c552f38d",
   "metadata": {},
   "outputs": [],
   "source": [
    "data.describe()"
   ]
  },
  {
   "cell_type": "code",
   "execution_count": 5,
   "id": "b40aa04e",
   "metadata": {},
   "outputs": [
    {
     "data": {
      "text/plain": [
       "Text(0.5, 1.0, 'Occupancy')"
      ]
     },
     "execution_count": 5,
     "metadata": {},
     "output_type": "execute_result"
    },
    {
     "data": {
      "image/png": "[encoded data removed]",
      "text/plain": [
       "<Figure size 432x288 with 1 Axes>"
      ]
     },
     "metadata": {
      "needs_background": "light"
     },
     "output_type": "display_data"
    }
   ],
   "source": [
    "plt.boxplot(data['Occupancy'])\n",
    "plt.title('Occupancy')"
   ]
  },
  {
   "cell_type": "code",
   "execution_count": 25,
   "id": "6b18056e",
   "metadata": {},
   "outputs": [
    {
     "data": {
      "text/plain": [
       "Text(0.5, 1.0, 'Capacity')"
      ]
     },
     "execution_count": 25,
     "metadata": {},
     "output_type": "execute_result"
    },
    {
     "data": {
      "image/png": "[encoded data removed]",
      "text/plain": [
       "<Figure size 432x288 with 1 Axes>"
      ]
     },
     "metadata": {
      "needs_background": "light"
     },
     "output_type": "display_data"
    }
   ],
   "source": [
    "plt.boxplot(data['Capacity'])\n",
    "plt.title('Capacity')"
   ]
  },
  {
   "cell_type": "code",
   "execution_count": 6,
   "id": "b6364c92",
   "metadata": {},
   "outputs": [
    {
     "name": "stdout",
     "output_type": "stream",
     "text": [
      "Number of instances before= 35717\n",
      "Number of attributes before= 4\n"
     ]
    }
   ],
   "source": [
    "print('Number of instances before= %d' % (data.shape[0]))\n",
    "print('Number of attributes before= %d' % (data.shape[1]))"
   ]
  },
  {
   "cell_type": "code",
   "execution_count": 7,
   "id": "f6dedba5",
   "metadata": {},
   "outputs": [
    {
     "name": "stdout",
     "output_type": "stream",
     "text": [
      "      SystemCodeNumber  Capacity  Occupancy       LastUpdated\n",
      "1396       BHMBCCPST01       317        320   10/8/2016 14:03\n",
      "1613       BHMBCCPST01       317        318  10/22/2016 14:39\n",
      "3548       BHMBCCSNH01       863        865  11/28/2016 11:01\n",
      "3549       BHMBCCSNH01       863        866  11/28/2016 11:32\n",
      "3583       BHMBCCSNH01       863        864  11/30/2016 10:28\n",
      "...                ...       ...        ...               ...\n",
      "7542       BHMBRCBRG02      1194       1198  12/18/2016 14:03\n",
      "12732      BHMMBMMBX01       687        688  12/19/2016 13:03\n",
      "14796      BHMNCPLDH01       720        723  11/16/2016 11:00\n",
      "15350      BHMNCPNHS01       500        501   10/4/2016 10:26\n",
      "15768      BHMNCPNHS01       500        503   11/8/2016 13:00\n",
      "\n",
      "[373 rows x 4 columns]\n"
     ]
    }
   ],
   "source": [
    "print((data[data['Occupancy'] > data['Capacity']]))"
   ]
  },
  {
   "cell_type": "code",
   "execution_count": 8,
   "id": "0b5e8e08",
   "metadata": {},
   "outputs": [
    {
     "name": "stdout",
     "output_type": "stream",
     "text": [
      "<class 'pandas.core.frame.DataFrame'>\n",
      "RangeIndex: 35717 entries, 0 to 35716\n",
      "Data columns (total 4 columns):\n",
      " #   Column            Non-Null Count  Dtype \n",
      "---  ------            --------------  ----- \n",
      " 0   SystemCodeNumber  35717 non-null  object\n",
      " 1   Capacity          35717 non-null  int64 \n",
      " 2   Occupancy         35717 non-null  int64 \n",
      " 3   LastUpdated       35717 non-null  object\n",
      "dtypes: int64(2), object(2)\n",
      "memory usage: 1.1+ MB\n"
     ]
    }
   ],
   "source": [
    "data.info()"
   ]
  },
  {
   "cell_type": "code",
   "execution_count": 9,
   "id": "be0cc90b",
   "metadata": {},
   "outputs": [
    {
     "name": "stdout",
     "output_type": "stream",
     "text": [
      "Number of instances before= 35116\n",
      "Number of attributes before= 4\n"
     ]
    }
   ],
   "source": [
    "data.dropna(inplace = True)\n",
    "data.drop_duplicates(keep='first',inplace=True)\n",
    "data = data[data['Occupancy']>=0 ]\n",
    "data = data[data['Capacity']>=0 ]\n",
    "false_data = data[data['Occupancy']> data['Capacity']]\n",
    "data = pd.concat([data, false_data]).drop_duplicates(keep=False)\n",
    "\n",
    "print('Number of instances before= %d' % (data.shape[0]))\n",
    "print('Number of attributes before= %d' % (data.shape[1]))"
   ]
  },
  {
   "cell_type": "code",
   "execution_count": 10,
   "id": "e80dd0b7",
   "metadata": {},
   "outputs": [
    {
     "data": {
      "text/html": [
       "<div>\n",
       "<style scoped>\n",
       "    .dataframe tbody tr th:only-of-type {\n",
       "        vertical-align: middle;\n",
       "    }\n",
       "\n",
       "    .dataframe tbody tr th {\n",
       "        vertical-align: top;\n",
       "    }\n",
       "\n",
       "    .dataframe thead th {\n",
       "        text-align: right;\n",
       "    }\n",
       "</style>\n",
       "<table border=\"1\" class=\"dataframe\">\n",
       "  <thead>\n",
       "    <tr style=\"text-align: right;\">\n",
       "      <th></th>\n",
       "      <th>Capacity</th>\n",
       "      <th>Occupancy</th>\n",
       "    </tr>\n",
       "  </thead>\n",
       "  <tbody>\n",
       "    <tr>\n",
       "      <th>count</th>\n",
       "      <td>35116.000000</td>\n",
       "      <td>35116.000000</td>\n",
       "    </tr>\n",
       "    <tr>\n",
       "      <th>mean</th>\n",
       "      <td>1407.923966</td>\n",
       "      <td>645.350496</td>\n",
       "    </tr>\n",
       "    <tr>\n",
       "      <th>std</th>\n",
       "      <td>1183.011879</td>\n",
       "      <td>660.531340</td>\n",
       "    </tr>\n",
       "    <tr>\n",
       "      <th>min</th>\n",
       "      <td>220.000000</td>\n",
       "      <td>0.000000</td>\n",
       "    </tr>\n",
       "    <tr>\n",
       "      <th>25%</th>\n",
       "      <td>577.000000</td>\n",
       "      <td>210.000000</td>\n",
       "    </tr>\n",
       "    <tr>\n",
       "      <th>50%</th>\n",
       "      <td>863.000000</td>\n",
       "      <td>450.000000</td>\n",
       "    </tr>\n",
       "    <tr>\n",
       "      <th>75%</th>\n",
       "      <td>2009.000000</td>\n",
       "      <td>799.000000</td>\n",
       "    </tr>\n",
       "    <tr>\n",
       "      <th>max</th>\n",
       "      <td>4675.000000</td>\n",
       "      <td>4327.000000</td>\n",
       "    </tr>\n",
       "  </tbody>\n",
       "</table>\n",
       "</div>"
      ],
      "text/plain": [
       "           Capacity     Occupancy\n",
       "count  35116.000000  35116.000000\n",
       "mean    1407.923966    645.350496\n",
       "std     1183.011879    660.531340\n",
       "min      220.000000      0.000000\n",
       "25%      577.000000    210.000000\n",
       "50%      863.000000    450.000000\n",
       "75%     2009.000000    799.000000\n",
       "max     4675.000000   4327.000000"
      ]
     },
     "execution_count": 10,
     "metadata": {},
     "output_type": "execute_result"
    }
   ],
   "source": [
    "data.describe()"
   ]
  },
  {
   "cell_type": "code",
   "execution_count": 11,
   "id": "1106d86e",
   "metadata": {},
   "outputs": [
    {
     "name": "stdout",
     "output_type": "stream",
     "text": [
      "<class 'pandas.core.frame.DataFrame'>\n",
      "Int64Index: 35116 entries, 0 to 35716\n",
      "Data columns (total 7 columns):\n",
      " #   Column            Non-Null Count  Dtype \n",
      "---  ------            --------------  ----- \n",
      " 0   SystemCodeNumber  35116 non-null  object\n",
      " 1   Capacity          35116 non-null  int64 \n",
      " 2   Occupancy         35116 non-null  int64 \n",
      " 3   LastUpdated       35116 non-null  object\n",
      " 4   Date              35116 non-null  object\n",
      " 5   Time              35116 non-null  object\n",
      " 6   Day               35116 non-null  object\n",
      "dtypes: int64(2), object(5)\n",
      "memory usage: 2.1+ MB\n"
     ]
    }
   ],
   "source": [
    "dateTime = data['LastUpdated'].str.split(\" \", n = 1, expand = True) \n",
    "date = dateTime[0]\n",
    "time = dateTime[1]\n",
    "data['Date'] = date\n",
    "data['Time'] = time\n",
    "day_name = ['Mon', 'Tue', 'Wed', 'Thu', 'Fri', 'Sat', 'Sun']\n",
    "data['Day'] = pd.to_datetime(data['Date']).dt.dayofweek.apply(lambda x: day_name[x])\n",
    "\n",
    "data.info()"
   ]
  },
  {
   "cell_type": "code",
   "execution_count": 12,
   "id": "16d62e31",
   "metadata": {},
   "outputs": [],
   "source": [
    "data['OccupancyRate'] = (100.0*data['Occupancy'])/data['Capacity']"
   ]
  },
  {
   "cell_type": "code",
   "execution_count": 13,
   "id": "9bb1e965",
   "metadata": {},
   "outputs": [
    {
     "data": {
      "text/html": [
       "<div>\n",
       "<style scoped>\n",
       "    .dataframe tbody tr th:only-of-type {\n",
       "        vertical-align: middle;\n",
       "    }\n",
       "\n",
       "    .dataframe tbody tr th {\n",
       "        vertical-align: top;\n",
       "    }\n",
       "\n",
       "    .dataframe thead th {\n",
       "        text-align: right;\n",
       "    }\n",
       "</style>\n",
       "<table border=\"1\" class=\"dataframe\">\n",
       "  <thead>\n",
       "    <tr style=\"text-align: right;\">\n",
       "      <th></th>\n",
       "      <th>SystemCodeNumber</th>\n",
       "      <th>Capacity</th>\n",
       "      <th>Occupancy</th>\n",
       "      <th>LastUpdated</th>\n",
       "      <th>Date</th>\n",
       "      <th>Time</th>\n",
       "      <th>Day</th>\n",
       "      <th>OccupancyRate</th>\n",
       "    </tr>\n",
       "  </thead>\n",
       "  <tbody>\n",
       "    <tr>\n",
       "      <th>0</th>\n",
       "      <td>BHMBCCMKT01</td>\n",
       "      <td>577</td>\n",
       "      <td>61</td>\n",
       "      <td>10/4/2016 7:59</td>\n",
       "      <td>10/4/2016</td>\n",
       "      <td>7:59</td>\n",
       "      <td>Tue</td>\n",
       "      <td>10.571924</td>\n",
       "    </tr>\n",
       "    <tr>\n",
       "      <th>1</th>\n",
       "      <td>BHMBCCMKT01</td>\n",
       "      <td>577</td>\n",
       "      <td>64</td>\n",
       "      <td>10/4/2016 8:25</td>\n",
       "      <td>10/4/2016</td>\n",
       "      <td>8:25</td>\n",
       "      <td>Tue</td>\n",
       "      <td>11.091854</td>\n",
       "    </tr>\n",
       "    <tr>\n",
       "      <th>2</th>\n",
       "      <td>BHMBCCMKT01</td>\n",
       "      <td>577</td>\n",
       "      <td>80</td>\n",
       "      <td>10/4/2016 8:59</td>\n",
       "      <td>10/4/2016</td>\n",
       "      <td>8:59</td>\n",
       "      <td>Tue</td>\n",
       "      <td>13.864818</td>\n",
       "    </tr>\n",
       "    <tr>\n",
       "      <th>3</th>\n",
       "      <td>BHMBCCMKT01</td>\n",
       "      <td>577</td>\n",
       "      <td>107</td>\n",
       "      <td>10/4/2016 9:32</td>\n",
       "      <td>10/4/2016</td>\n",
       "      <td>9:32</td>\n",
       "      <td>Tue</td>\n",
       "      <td>18.544194</td>\n",
       "    </tr>\n",
       "    <tr>\n",
       "      <th>4</th>\n",
       "      <td>BHMBCCMKT01</td>\n",
       "      <td>577</td>\n",
       "      <td>150</td>\n",
       "      <td>10/4/2016 9:59</td>\n",
       "      <td>10/4/2016</td>\n",
       "      <td>9:59</td>\n",
       "      <td>Tue</td>\n",
       "      <td>25.996534</td>\n",
       "    </tr>\n",
       "    <tr>\n",
       "      <th>...</th>\n",
       "      <td>...</td>\n",
       "      <td>...</td>\n",
       "      <td>...</td>\n",
       "      <td>...</td>\n",
       "      <td>...</td>\n",
       "      <td>...</td>\n",
       "      <td>...</td>\n",
       "      <td>...</td>\n",
       "    </tr>\n",
       "    <tr>\n",
       "      <th>35712</th>\n",
       "      <td>Shopping</td>\n",
       "      <td>1920</td>\n",
       "      <td>1517</td>\n",
       "      <td>12/19/2016 14:30</td>\n",
       "      <td>12/19/2016</td>\n",
       "      <td>14:30</td>\n",
       "      <td>Mon</td>\n",
       "      <td>79.010417</td>\n",
       "    </tr>\n",
       "    <tr>\n",
       "      <th>35713</th>\n",
       "      <td>Shopping</td>\n",
       "      <td>1920</td>\n",
       "      <td>1487</td>\n",
       "      <td>12/19/2016 15:03</td>\n",
       "      <td>12/19/2016</td>\n",
       "      <td>15:03</td>\n",
       "      <td>Mon</td>\n",
       "      <td>77.447917</td>\n",
       "    </tr>\n",
       "    <tr>\n",
       "      <th>35714</th>\n",
       "      <td>Shopping</td>\n",
       "      <td>1920</td>\n",
       "      <td>1432</td>\n",
       "      <td>12/19/2016 15:29</td>\n",
       "      <td>12/19/2016</td>\n",
       "      <td>15:29</td>\n",
       "      <td>Mon</td>\n",
       "      <td>74.583333</td>\n",
       "    </tr>\n",
       "    <tr>\n",
       "      <th>35715</th>\n",
       "      <td>Shopping</td>\n",
       "      <td>1920</td>\n",
       "      <td>1321</td>\n",
       "      <td>12/19/2016 16:03</td>\n",
       "      <td>12/19/2016</td>\n",
       "      <td>16:03</td>\n",
       "      <td>Mon</td>\n",
       "      <td>68.802083</td>\n",
       "    </tr>\n",
       "    <tr>\n",
       "      <th>35716</th>\n",
       "      <td>Shopping</td>\n",
       "      <td>1920</td>\n",
       "      <td>1180</td>\n",
       "      <td>12/19/2016 16:30</td>\n",
       "      <td>12/19/2016</td>\n",
       "      <td>16:30</td>\n",
       "      <td>Mon</td>\n",
       "      <td>61.458333</td>\n",
       "    </tr>\n",
       "  </tbody>\n",
       "</table>\n",
       "<p>35116 rows × 8 columns</p>\n",
       "</div>"
      ],
      "text/plain": [
       "      SystemCodeNumber  Capacity  Occupancy       LastUpdated        Date  \\\n",
       "0          BHMBCCMKT01       577         61    10/4/2016 7:59   10/4/2016   \n",
       "1          BHMBCCMKT01       577         64    10/4/2016 8:25   10/4/2016   \n",
       "2          BHMBCCMKT01       577         80    10/4/2016 8:59   10/4/2016   \n",
       "3          BHMBCCMKT01       577        107    10/4/2016 9:32   10/4/2016   \n",
       "4          BHMBCCMKT01       577        150    10/4/2016 9:59   10/4/2016   \n",
       "...                ...       ...        ...               ...         ...   \n",
       "35712         Shopping      1920       1517  12/19/2016 14:30  12/19/2016   \n",
       "35713         Shopping      1920       1487  12/19/2016 15:03  12/19/2016   \n",
       "35714         Shopping      1920       1432  12/19/2016 15:29  12/19/2016   \n",
       "35715         Shopping      1920       1321  12/19/2016 16:03  12/19/2016   \n",
       "35716         Shopping      1920       1180  12/19/2016 16:30  12/19/2016   \n",
       "\n",
       "        Time  Day  OccupancyRate  \n",
       "0       7:59  Tue      10.571924  \n",
       "1       8:25  Tue      11.091854  \n",
       "2       8:59  Tue      13.864818  \n",
       "3       9:32  Tue      18.544194  \n",
       "4       9:59  Tue      25.996534  \n",
       "...      ...  ...            ...  \n",
       "35712  14:30  Mon      79.010417  \n",
       "35713  15:03  Mon      77.447917  \n",
       "35714  15:29  Mon      74.583333  \n",
       "35715  16:03  Mon      68.802083  \n",
       "35716  16:30  Mon      61.458333  \n",
       "\n",
       "[35116 rows x 8 columns]"
      ]
     },
     "execution_count": 13,
     "metadata": {},
     "output_type": "execute_result"
    }
   ],
   "source": [
    "data"
   ]
  },
  {
   "cell_type": "markdown",
   "id": "18b25b2d",
   "metadata": {},
   "source": [
    "# Data Visualization"
   ]
  },
  {
   "cell_type": "code",
   "execution_count": 14,
   "id": "44dde1c6",
   "metadata": {},
   "outputs": [
    {
     "data": {
      "text/plain": [
       "<seaborn.axisgrid.FacetGrid at 0x1ba6c38bbe0>"
      ]
     },
     "execution_count": 14,
     "metadata": {},
     "output_type": "execute_result"
    },
    {
     "data": {
      "image/png": "[encoded data removed]",
      "text/plain": [
       "<Figure size 360x360 with 1 Axes>"
      ]
     },
     "metadata": {
      "needs_background": "light"
     },
     "output_type": "display_data"
    }
   ],
   "source": [
    "box = sns.catplot(x = \"Day\",y=\"OccupancyRate\",kind='box',data=data)\n",
    "box.set(xlabel=\"Week Days\", ylabel = \"OccupancyRate\")"
   ]
  },
  {
   "cell_type": "code",
   "execution_count": 15,
   "id": "cd5ba779",
   "metadata": {},
   "outputs": [
    {
     "data": {
      "text/plain": [
       "<seaborn.axisgrid.FacetGrid at 0x1ba6cbbaf10>"
      ]
     },
     "execution_count": 15,
     "metadata": {},
     "output_type": "execute_result"
    },
    {
     "data": {
      "image/png": "[encoded data removed]",
      "text/plain": [
       "<Figure size 360x360 with 1 Axes>"
      ]
     },
     "metadata": {
      "needs_background": "light"
     },
     "output_type": "display_data"
    }
   ],
   "source": [
    "graph = sns.catplot(x='Day', kind='count', data=data)\n",
    "graph.fig.autofmt_xdate()\n",
    "graph.set(xlabel=\"Week Days\", ylabel = \"Count\")"
   ]
  },
  {
   "cell_type": "code",
   "execution_count": 16,
   "id": "c73c9175",
   "metadata": {},
   "outputs": [
    {
     "data": {
      "text/plain": [
       "Text(0.5, 1.0, 'Occupancy')"
      ]
     },
     "execution_count": 16,
     "metadata": {},
     "output_type": "execute_result"
    },
    {
     "data": {
      "image/png": "[encoded data removed]",
      "text/plain": [
       "<Figure size 432x288 with 1 Axes>"
      ]
     },
     "metadata": {
      "needs_background": "light"
     },
     "output_type": "display_data"
    }
   ],
   "source": [
    "plt.boxplot(data['Occupancy'])\n",
    "plt.title('Occupancy')"
   ]
  },
  {
   "cell_type": "code",
   "execution_count": 17,
   "id": "eb1083e4",
   "metadata": {},
   "outputs": [
    {
     "data": {
      "text/plain": [
       "Text(0.5, 1.0, 'Capacity')"
      ]
     },
     "execution_count": 17,
     "metadata": {},
     "output_type": "execute_result"
    },
    {
     "data": {
      "image/png": "[encoded data removed]",
      "text/plain": [
       "<Figure size 432x288 with 1 Axes>"
      ]
     },
     "metadata": {
      "needs_background": "light"
     },
     "output_type": "display_data"
    }
   ],
   "source": [
    "plt.boxplot(data['Capacity'])\n",
    "plt.title('Capacity')"
   ]
  },
  {
   "cell_type": "code",
   "execution_count": 18,
   "id": "9e58e3cd",
   "metadata": {},
   "outputs": [
    {
     "data": {
      "text/plain": [
       "<seaborn.axisgrid.FacetGrid at 0x1ba6c3c1bb0>"
      ]
     },
     "execution_count": 18,
     "metadata": {},
     "output_type": "execute_result"
    },
    {
     "data": {
      "image/png": "[encoded data removed]",
      "text/plain": [
       "<Figure size 870.617x360 with 1 Axes>"
      ]
     },
     "metadata": {
      "needs_background": "light"
     },
     "output_type": "display_data"
    }
   ],
   "source": [
    "hist = sns.catplot(x='Capacity', kind='count', data=data, aspect=20/8.27)\n",
    "hist.fig.autofmt_xdate()\n",
    "hist.set(xlabel=\"Capacity Frequency\", ylabel = \"Count\")"
   ]
  },
  {
   "cell_type": "code",
   "execution_count": 24,
   "id": "719fa7be",
   "metadata": {},
   "outputs": [
    {
     "name": "stdout",
     "output_type": "stream",
     "text": [
      "577     1307\n",
      "3103    1307\n",
      "2937    1307\n",
      "1322    1307\n",
      "3883    1307\n",
      "2803    1307\n",
      "2009    1307\n",
      "1920    1307\n",
      "690     1306\n",
      "470     1306\n",
      "687     1306\n",
      "1200    1301\n",
      "485     1299\n",
      "4675    1289\n",
      "720     1280\n",
      "863     1278\n",
      "220     1270\n",
      "317     1269\n",
      "450     1253\n",
      "1268    1199\n",
      "788     1199\n",
      "849     1180\n",
      "3053    1180\n",
      "600     1174\n",
      "1194    1150\n",
      "1010    1093\n",
      "387     1067\n",
      "500     1026\n",
      "480      147\n",
      "496       88\n",
      "Name: Capacity, dtype: int64\n"
     ]
    }
   ],
   "source": [
    "print(data['Capacity'].value_counts())"
   ]
  },
  {
   "cell_type": "markdown",
   "id": "c031f936",
   "metadata": {},
   "source": [
    "# Data Sampling"
   ]
  },
  {
   "cell_type": "code",
   "execution_count": 20,
   "id": "2065e9ad",
   "metadata": {},
   "outputs": [],
   "source": [
    "subset = data.sample(n=10000)"
   ]
  },
  {
   "cell_type": "code",
   "execution_count": 21,
   "id": "b806b7e7",
   "metadata": {},
   "outputs": [
    {
     "data": {
      "text/plain": [
       "(10000, 8)"
      ]
     },
     "execution_count": 21,
     "metadata": {},
     "output_type": "execute_result"
    }
   ],
   "source": [
    "subset.shape"
   ]
  },
  {
   "cell_type": "code",
   "execution_count": 22,
   "id": "a3124bcd",
   "metadata": {},
   "outputs": [
    {
     "data": {
      "text/html": [
       "<div>\n",
       "<style scoped>\n",
       "    .dataframe tbody tr th:only-of-type {\n",
       "        vertical-align: middle;\n",
       "    }\n",
       "\n",
       "    .dataframe tbody tr th {\n",
       "        vertical-align: top;\n",
       "    }\n",
       "\n",
       "    .dataframe thead th {\n",
       "        text-align: right;\n",
       "    }\n",
       "</style>\n",
       "<table border=\"1\" class=\"dataframe\">\n",
       "  <thead>\n",
       "    <tr style=\"text-align: right;\">\n",
       "      <th></th>\n",
       "      <th>SystemCodeNumber</th>\n",
       "      <th>Capacity</th>\n",
       "      <th>Occupancy</th>\n",
       "      <th>LastUpdated</th>\n",
       "      <th>Date</th>\n",
       "      <th>Time</th>\n",
       "      <th>Day</th>\n",
       "      <th>OccupancyRate</th>\n",
       "    </tr>\n",
       "  </thead>\n",
       "  <tbody>\n",
       "    <tr>\n",
       "      <th>2550</th>\n",
       "      <td>BHMBCCPST01</td>\n",
       "      <td>317</td>\n",
       "      <td>302</td>\n",
       "      <td>12/17/2016 15:57</td>\n",
       "      <td>12/17/2016</td>\n",
       "      <td>15:57</td>\n",
       "      <td>Sat</td>\n",
       "      <td>95.268139</td>\n",
       "    </tr>\n",
       "    <tr>\n",
       "      <th>25554</th>\n",
       "      <td>Others-CCCPS105a</td>\n",
       "      <td>2009</td>\n",
       "      <td>993</td>\n",
       "      <td>10/23/2016 12:26</td>\n",
       "      <td>10/23/2016</td>\n",
       "      <td>12:26</td>\n",
       "      <td>Sun</td>\n",
       "      <td>49.427576</td>\n",
       "    </tr>\n",
       "    <tr>\n",
       "      <th>34363</th>\n",
       "      <td>Others-CCCPS98</td>\n",
       "      <td>3103</td>\n",
       "      <td>1701</td>\n",
       "      <td>12/17/2016 14:00</td>\n",
       "      <td>12/17/2016</td>\n",
       "      <td>14:00</td>\n",
       "      <td>Sat</td>\n",
       "      <td>54.817918</td>\n",
       "    </tr>\n",
       "    <tr>\n",
       "      <th>31933</th>\n",
       "      <td>Others-CCCPS8</td>\n",
       "      <td>1322</td>\n",
       "      <td>759</td>\n",
       "      <td>10/12/2016 12:04</td>\n",
       "      <td>10/12/2016</td>\n",
       "      <td>12:04</td>\n",
       "      <td>Wed</td>\n",
       "      <td>57.413011</td>\n",
       "    </tr>\n",
       "    <tr>\n",
       "      <th>2108</th>\n",
       "      <td>BHMBCCPST01</td>\n",
       "      <td>317</td>\n",
       "      <td>141</td>\n",
       "      <td>11/19/2016 10:04</td>\n",
       "      <td>11/19/2016</td>\n",
       "      <td>10:04</td>\n",
       "      <td>Sat</td>\n",
       "      <td>44.479495</td>\n",
       "    </tr>\n",
       "    <tr>\n",
       "      <th>...</th>\n",
       "      <td>...</td>\n",
       "      <td>...</td>\n",
       "      <td>...</td>\n",
       "      <td>...</td>\n",
       "      <td>...</td>\n",
       "      <td>...</td>\n",
       "      <td>...</td>\n",
       "      <td>...</td>\n",
       "    </tr>\n",
       "    <tr>\n",
       "      <th>11659</th>\n",
       "      <td>BHMMBMMBX01</td>\n",
       "      <td>687</td>\n",
       "      <td>473</td>\n",
       "      <td>10/16/2016 15:31</td>\n",
       "      <td>10/16/2016</td>\n",
       "      <td>15:31</td>\n",
       "      <td>Sun</td>\n",
       "      <td>68.850073</td>\n",
       "    </tr>\n",
       "    <tr>\n",
       "      <th>25223</th>\n",
       "      <td>NIA South</td>\n",
       "      <td>788</td>\n",
       "      <td>97</td>\n",
       "      <td>12/16/2016 9:03</td>\n",
       "      <td>12/16/2016</td>\n",
       "      <td>9:03</td>\n",
       "      <td>Fri</td>\n",
       "      <td>12.309645</td>\n",
       "    </tr>\n",
       "    <tr>\n",
       "      <th>23096</th>\n",
       "      <td>NIA Car Parks</td>\n",
       "      <td>1268</td>\n",
       "      <td>615</td>\n",
       "      <td>10/29/2016 14:26</td>\n",
       "      <td>10/29/2016</td>\n",
       "      <td>14:26</td>\n",
       "      <td>Sat</td>\n",
       "      <td>48.501577</td>\n",
       "    </tr>\n",
       "    <tr>\n",
       "      <th>31263</th>\n",
       "      <td>Others-CCCPS202</td>\n",
       "      <td>2937</td>\n",
       "      <td>430</td>\n",
       "      <td>11/19/2016 8:57</td>\n",
       "      <td>11/19/2016</td>\n",
       "      <td>8:57</td>\n",
       "      <td>Sat</td>\n",
       "      <td>14.640790</td>\n",
       "    </tr>\n",
       "    <tr>\n",
       "      <th>19913</th>\n",
       "      <td>BHMNCPRAN01</td>\n",
       "      <td>600</td>\n",
       "      <td>513</td>\n",
       "      <td>12/1/2016 12:58</td>\n",
       "      <td>12/1/2016</td>\n",
       "      <td>12:58</td>\n",
       "      <td>Thu</td>\n",
       "      <td>85.500000</td>\n",
       "    </tr>\n",
       "  </tbody>\n",
       "</table>\n",
       "<p>10000 rows × 8 columns</p>\n",
       "</div>"
      ],
      "text/plain": [
       "       SystemCodeNumber  Capacity  Occupancy       LastUpdated        Date  \\\n",
       "2550        BHMBCCPST01       317        302  12/17/2016 15:57  12/17/2016   \n",
       "25554  Others-CCCPS105a      2009        993  10/23/2016 12:26  10/23/2016   \n",
       "34363    Others-CCCPS98      3103       1701  12/17/2016 14:00  12/17/2016   \n",
       "31933     Others-CCCPS8      1322        759  10/12/2016 12:04  10/12/2016   \n",
       "2108        BHMBCCPST01       317        141  11/19/2016 10:04  11/19/2016   \n",
       "...                 ...       ...        ...               ...         ...   \n",
       "11659       BHMMBMMBX01       687        473  10/16/2016 15:31  10/16/2016   \n",
       "25223         NIA South       788         97   12/16/2016 9:03  12/16/2016   \n",
       "23096     NIA Car Parks      1268        615  10/29/2016 14:26  10/29/2016   \n",
       "31263   Others-CCCPS202      2937        430   11/19/2016 8:57  11/19/2016   \n",
       "19913       BHMNCPRAN01       600        513   12/1/2016 12:58   12/1/2016   \n",
       "\n",
       "        Time  Day  OccupancyRate  \n",
       "2550   15:57  Sat      95.268139  \n",
       "25554  12:26  Sun      49.427576  \n",
       "34363  14:00  Sat      54.817918  \n",
       "31933  12:04  Wed      57.413011  \n",
       "2108   10:04  Sat      44.479495  \n",
       "...      ...  ...            ...  \n",
       "11659  15:31  Sun      68.850073  \n",
       "25223   9:03  Fri      12.309645  \n",
       "23096  14:26  Sat      48.501577  \n",
       "31263   8:57  Sat      14.640790  \n",
       "19913  12:58  Thu      85.500000  \n",
       "\n",
       "[10000 rows x 8 columns]"
      ]
     },
     "execution_count": 22,
     "metadata": {},
     "output_type": "execute_result"
    }
   ],
   "source": [
    "subset"
   ]
  },
  {
   "cell_type": "code",
   "execution_count": 23,
   "id": "3c6be4fd",
   "metadata": {},
   "outputs": [
    {
     "data": {
      "text/html": [
       "<div>\n",
       "<style scoped>\n",
       "    .dataframe tbody tr th:only-of-type {\n",
       "        vertical-align: middle;\n",
       "    }\n",
       "\n",
       "    .dataframe tbody tr th {\n",
       "        vertical-align: top;\n",
       "    }\n",
       "\n",
       "    .dataframe thead th {\n",
       "        text-align: right;\n",
       "    }\n",
       "</style>\n",
       "<table border=\"1\" class=\"dataframe\">\n",
       "  <thead>\n",
       "    <tr style=\"text-align: right;\">\n",
       "      <th></th>\n",
       "      <th>Capacity</th>\n",
       "      <th>Occupancy</th>\n",
       "      <th>OccupancyRate</th>\n",
       "    </tr>\n",
       "  </thead>\n",
       "  <tbody>\n",
       "    <tr>\n",
       "      <th>count</th>\n",
       "      <td>10000.000000</td>\n",
       "      <td>10000.000000</td>\n",
       "      <td>10000.000000</td>\n",
       "    </tr>\n",
       "    <tr>\n",
       "      <th>mean</th>\n",
       "      <td>1402.419600</td>\n",
       "      <td>645.145400</td>\n",
       "      <td>49.158597</td>\n",
       "    </tr>\n",
       "    <tr>\n",
       "      <th>std</th>\n",
       "      <td>1176.876262</td>\n",
       "      <td>662.058463</td>\n",
       "      <td>26.734516</td>\n",
       "    </tr>\n",
       "    <tr>\n",
       "      <th>min</th>\n",
       "      <td>220.000000</td>\n",
       "      <td>0.000000</td>\n",
       "      <td>0.000000</td>\n",
       "    </tr>\n",
       "    <tr>\n",
       "      <th>25%</th>\n",
       "      <td>577.000000</td>\n",
       "      <td>211.000000</td>\n",
       "      <td>25.792585</td>\n",
       "    </tr>\n",
       "    <tr>\n",
       "      <th>50%</th>\n",
       "      <td>863.000000</td>\n",
       "      <td>452.500000</td>\n",
       "      <td>47.003155</td>\n",
       "    </tr>\n",
       "    <tr>\n",
       "      <th>75%</th>\n",
       "      <td>2009.000000</td>\n",
       "      <td>790.000000</td>\n",
       "      <td>71.614868</td>\n",
       "    </tr>\n",
       "    <tr>\n",
       "      <th>max</th>\n",
       "      <td>4675.000000</td>\n",
       "      <td>3948.000000</td>\n",
       "      <td>100.000000</td>\n",
       "    </tr>\n",
       "  </tbody>\n",
       "</table>\n",
       "</div>"
      ],
      "text/plain": [
       "           Capacity     Occupancy  OccupancyRate\n",
       "count  10000.000000  10000.000000   10000.000000\n",
       "mean    1402.419600    645.145400      49.158597\n",
       "std     1176.876262    662.058463      26.734516\n",
       "min      220.000000      0.000000       0.000000\n",
       "25%      577.000000    211.000000      25.792585\n",
       "50%      863.000000    452.500000      47.003155\n",
       "75%     2009.000000    790.000000      71.614868\n",
       "max     4675.000000   3948.000000     100.000000"
      ]
     },
     "execution_count": 23,
     "metadata": {},
     "output_type": "execute_result"
    }
   ],
   "source": [
    "subset.describe()"
   ]
  },
  {
   "cell_type": "code",
   "execution_count": 28,
   "id": "8bf11bd0",
   "metadata": {},
   "outputs": [
    {
     "data": {
      "text/plain": [
       "Text(0.5, 1.0, 'Occupancy')"
      ]
     },
     "execution_count": 28,
     "metadata": {},
     "output_type": "execute_result"
    },
    {
     "data": {
      "image/png": "[encoded data removed]",
      "text/plain": [
       "<Figure size 432x288 with 1 Axes>"
      ]
     },
     "metadata": {
      "needs_background": "light"
     },
     "output_type": "display_data"
    }
   ],
   "source": [
    "plt.boxplot(subset['Occupancy'])\n",
    "plt.title('Occupancy')"
   ]
  },
  {
   "cell_type": "code",
   "execution_count": 31,
   "id": "015bb8f5",
   "metadata": {},
   "outputs": [
    {
     "data": {
      "text/plain": [
       "Text(0.5, 1.0, 'Capacity')"
      ]
     },
     "execution_count": 31,
     "metadata": {},
     "output_type": "execute_result"
    },
    {
     "data": {
      "image/png": "[encoded data removed]",
      "text/plain": [
       "<Figure size 432x288 with 1 Axes>"
      ]
     },
     "metadata": {
      "needs_background": "light"
     },
     "output_type": "display_data"
    }
   ],
   "source": [
    "plt.boxplot(subset['Capacity'])\n",
    "plt.title('Capacity')"
   ]
  },
  {
   "cell_type": "code",
   "execution_count": 29,
   "id": "f6adacd3",
   "metadata": {},
   "outputs": [
    {
     "data": {
      "text/plain": [
       "<seaborn.axisgrid.FacetGrid at 0x1ba6ce5ff40>"
      ]
     },
     "execution_count": 29,
     "metadata": {},
     "output_type": "execute_result"
    },
    {
     "data": {
      "image/png": "[encoded data removed]",
      "text/plain": [
       "<Figure size 360x360 with 1 Axes>"
      ]
     },
     "metadata": {
      "needs_background": "light"
     },
     "output_type": "display_data"
    }
   ],
   "source": [
    "box = sns.catplot(x = \"Day\",y=\"OccupancyRate\",kind='box',data=subset)\n",
    "box.set(xlabel=\"Week Days\", ylabel = \"OccupancyRate\")"
   ]
  },
  {
   "cell_type": "code",
   "execution_count": 30,
   "id": "dbdd8220",
   "metadata": {},
   "outputs": [
    {
     "data": {
      "text/plain": [
       "<seaborn.axisgrid.FacetGrid at 0x1ba6c3bcd60>"
      ]
     },
     "execution_count": 30,
     "metadata": {},
     "output_type": "execute_result"
    },
    {
     "data": {
      "image/png": "[encoded data removed]",
      "text/plain": [
       "<Figure size 360x360 with 1 Axes>"
      ]
     },
     "metadata": {
      "needs_background": "light"
     },
     "output_type": "display_data"
    }
   ],
   "source": [
    "graph = sns.catplot(x='Day', kind='count', data=subset)\n",
    "graph.fig.autofmt_xdate()\n",
    "graph.set(xlabel=\"Week Days\", ylabel = \"Count\")"
   ]
  },
  {
   "cell_type": "code",
   "execution_count": 32,
   "id": "9e9fcfe5",
   "metadata": {},
   "outputs": [
    {
     "data": {
      "text/plain": [
       "<seaborn.axisgrid.FacetGrid at 0x1ba6d0ab760>"
      ]
     },
     "execution_count": 32,
     "metadata": {},
     "output_type": "execute_result"
    },
    {
     "data": {
      "image/png": "[encoded data removed]",
      "text/plain": [
       "<Figure size 870.617x360 with 1 Axes>"
      ]
     },
     "metadata": {
      "needs_background": "light"
     },
     "output_type": "display_data"
    }
   ],
   "source": [
    "hist = sns.catplot(x='Capacity', kind='count', data=subset, aspect=20/8.27)\n",
    "hist.fig.autofmt_xdate()\n",
    "hist.set(xlabel=\"Capacity Frequency\", ylabel = \"Count\")"
   ]
  },
  {
   "cell_type": "code",
   "execution_count": null,
   "id": "b67167ce",
   "metadata": {},
   "outputs": [],
   "source": []
  }
 ],
 "metadata": {
  "kernelspec": {
   "display_name": "Python 3",
   "language": "python",
   "name": "python3"
  },
  "language_info": {
   "codemirror_mode": {
    "name": "ipython",
    "version": 3
   },
   "file_extension": ".py",
   "mimetype": "text/x-python",
   "name": "python",
   "nbconvert_exporter": "python",
   "pygments_lexer": "ipython3",
   "version": "3.8.8"
  }
 },
 "nbformat": 4,
 "nbformat_minor": 5
}
