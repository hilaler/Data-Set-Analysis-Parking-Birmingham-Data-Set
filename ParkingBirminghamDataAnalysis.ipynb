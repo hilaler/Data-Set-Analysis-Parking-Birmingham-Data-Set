{
 "cells": [
  {
   "cell_type": "code",
   "execution_count": 51,
   "id": "3ec6f397",
   "metadata": {},
   "outputs": [],
   "source": [
    "import numpy as np\n",
    "import pandas as pd\n",
    "import seaborn as sns\n",
    "import matplotlib.pyplot as plt\n",
    "import matplotlib.dates as mdates\n",
    "%matplotlib inline"
   ]
  },
  {
   "cell_type": "code",
   "execution_count": 52,
   "id": "95a1b2ec",
   "metadata": {},
   "outputs": [
    {
     "data": {
      "text/html": [
       "<div>\n",
       "<style scoped>\n",
       "    .dataframe tbody tr th:only-of-type {\n",
       "        vertical-align: middle;\n",
       "    }\n",
       "\n",
       "    .dataframe tbody tr th {\n",
       "        vertical-align: top;\n",
       "    }\n",
       "\n",
       "    .dataframe thead th {\n",
       "        text-align: right;\n",
       "    }\n",
       "</style>\n",
       "<table border=\"1\" class=\"dataframe\">\n",
       "  <thead>\n",
       "    <tr style=\"text-align: right;\">\n",
       "      <th></th>\n",
       "      <th>SystemCodeNumber</th>\n",
       "      <th>Capacity</th>\n",
       "      <th>Occupancy</th>\n",
       "      <th>LastUpdated</th>\n",
       "    </tr>\n",
       "  </thead>\n",
       "  <tbody>\n",
       "    <tr>\n",
       "      <th>0</th>\n",
       "      <td>BHMBCCMKT01</td>\n",
       "      <td>577</td>\n",
       "      <td>61</td>\n",
       "      <td>10/4/2016 7:59</td>\n",
       "    </tr>\n",
       "    <tr>\n",
       "      <th>1</th>\n",
       "      <td>BHMBCCMKT01</td>\n",
       "      <td>577</td>\n",
       "      <td>64</td>\n",
       "      <td>10/4/2016 8:25</td>\n",
       "    </tr>\n",
       "    <tr>\n",
       "      <th>2</th>\n",
       "      <td>BHMBCCMKT01</td>\n",
       "      <td>577</td>\n",
       "      <td>80</td>\n",
       "      <td>10/4/2016 8:59</td>\n",
       "    </tr>\n",
       "    <tr>\n",
       "      <th>3</th>\n",
       "      <td>BHMBCCMKT01</td>\n",
       "      <td>577</td>\n",
       "      <td>107</td>\n",
       "      <td>10/4/2016 9:32</td>\n",
       "    </tr>\n",
       "    <tr>\n",
       "      <th>4</th>\n",
       "      <td>BHMBCCMKT01</td>\n",
       "      <td>577</td>\n",
       "      <td>150</td>\n",
       "      <td>10/4/2016 9:59</td>\n",
       "    </tr>\n",
       "    <tr>\n",
       "      <th>...</th>\n",
       "      <td>...</td>\n",
       "      <td>...</td>\n",
       "      <td>...</td>\n",
       "      <td>...</td>\n",
       "    </tr>\n",
       "    <tr>\n",
       "      <th>35712</th>\n",
       "      <td>Shopping</td>\n",
       "      <td>1920</td>\n",
       "      <td>1517</td>\n",
       "      <td>12/19/2016 14:30</td>\n",
       "    </tr>\n",
       "    <tr>\n",
       "      <th>35713</th>\n",
       "      <td>Shopping</td>\n",
       "      <td>1920</td>\n",
       "      <td>1487</td>\n",
       "      <td>12/19/2016 15:03</td>\n",
       "    </tr>\n",
       "    <tr>\n",
       "      <th>35714</th>\n",
       "      <td>Shopping</td>\n",
       "      <td>1920</td>\n",
       "      <td>1432</td>\n",
       "      <td>12/19/2016 15:29</td>\n",
       "    </tr>\n",
       "    <tr>\n",
       "      <th>35715</th>\n",
       "      <td>Shopping</td>\n",
       "      <td>1920</td>\n",
       "      <td>1321</td>\n",
       "      <td>12/19/2016 16:03</td>\n",
       "    </tr>\n",
       "    <tr>\n",
       "      <th>35716</th>\n",
       "      <td>Shopping</td>\n",
       "      <td>1920</td>\n",
       "      <td>1180</td>\n",
       "      <td>12/19/2016 16:30</td>\n",
       "    </tr>\n",
       "  </tbody>\n",
       "</table>\n",
       "<p>35717 rows × 4 columns</p>\n",
       "</div>"
      ],
      "text/plain": [
       "      SystemCodeNumber  Capacity  Occupancy       LastUpdated\n",
       "0          BHMBCCMKT01       577         61    10/4/2016 7:59\n",
       "1          BHMBCCMKT01       577         64    10/4/2016 8:25\n",
       "2          BHMBCCMKT01       577         80    10/4/2016 8:59\n",
       "3          BHMBCCMKT01       577        107    10/4/2016 9:32\n",
       "4          BHMBCCMKT01       577        150    10/4/2016 9:59\n",
       "...                ...       ...        ...               ...\n",
       "35712         Shopping      1920       1517  12/19/2016 14:30\n",
       "35713         Shopping      1920       1487  12/19/2016 15:03\n",
       "35714         Shopping      1920       1432  12/19/2016 15:29\n",
       "35715         Shopping      1920       1321  12/19/2016 16:03\n",
       "35716         Shopping      1920       1180  12/19/2016 16:30\n",
       "\n",
       "[35717 rows x 4 columns]"
      ]
     },
     "execution_count": 52,
     "metadata": {},
     "output_type": "execute_result"
    }
   ],
   "source": [
    "data = pd.read_csv('https://github.com/hilaler/Data-Set-Analysis-Parking-Birmingham-Data-Set/blob/main/dataset.csv?raw=true')\n",
    "data"
   ]
  },
  {
   "cell_type": "code",
   "execution_count": 53,
   "id": "51ef0116",
   "metadata": {},
   "outputs": [
    {
     "data": {
      "text/html": [
       "<div>\n",
       "<style scoped>\n",
       "    .dataframe tbody tr th:only-of-type {\n",
       "        vertical-align: middle;\n",
       "    }\n",
       "\n",
       "    .dataframe tbody tr th {\n",
       "        vertical-align: top;\n",
       "    }\n",
       "\n",
       "    .dataframe thead th {\n",
       "        text-align: right;\n",
       "    }\n",
       "</style>\n",
       "<table border=\"1\" class=\"dataframe\">\n",
       "  <thead>\n",
       "    <tr style=\"text-align: right;\">\n",
       "      <th></th>\n",
       "      <th>Capacity</th>\n",
       "      <th>Occupancy</th>\n",
       "    </tr>\n",
       "  </thead>\n",
       "  <tbody>\n",
       "    <tr>\n",
       "      <th>count</th>\n",
       "      <td>35717.000000</td>\n",
       "      <td>35717.000000</td>\n",
       "    </tr>\n",
       "    <tr>\n",
       "      <th>mean</th>\n",
       "      <td>1397.550130</td>\n",
       "      <td>642.228911</td>\n",
       "    </tr>\n",
       "    <tr>\n",
       "      <th>std</th>\n",
       "      <td>1179.326833</td>\n",
       "      <td>656.955535</td>\n",
       "    </tr>\n",
       "    <tr>\n",
       "      <th>min</th>\n",
       "      <td>220.000000</td>\n",
       "      <td>-8.000000</td>\n",
       "    </tr>\n",
       "    <tr>\n",
       "      <th>25%</th>\n",
       "      <td>500.000000</td>\n",
       "      <td>210.000000</td>\n",
       "    </tr>\n",
       "    <tr>\n",
       "      <th>50%</th>\n",
       "      <td>849.000000</td>\n",
       "      <td>446.000000</td>\n",
       "    </tr>\n",
       "    <tr>\n",
       "      <th>75%</th>\n",
       "      <td>2009.000000</td>\n",
       "      <td>798.000000</td>\n",
       "    </tr>\n",
       "    <tr>\n",
       "      <th>max</th>\n",
       "      <td>4675.000000</td>\n",
       "      <td>4327.000000</td>\n",
       "    </tr>\n",
       "  </tbody>\n",
       "</table>\n",
       "</div>"
      ],
      "text/plain": [
       "           Capacity     Occupancy\n",
       "count  35717.000000  35717.000000\n",
       "mean    1397.550130    642.228911\n",
       "std     1179.326833    656.955535\n",
       "min      220.000000     -8.000000\n",
       "25%      500.000000    210.000000\n",
       "50%      849.000000    446.000000\n",
       "75%     2009.000000    798.000000\n",
       "max     4675.000000   4327.000000"
      ]
     },
     "execution_count": 53,
     "metadata": {},
     "output_type": "execute_result"
    }
   ],
   "source": [
    "data.describe()"
   ]
  },
  {
   "cell_type": "code",
   "execution_count": 54,
   "id": "b6364c92",
   "metadata": {},
   "outputs": [
    {
     "name": "stdout",
     "output_type": "stream",
     "text": [
      "Number of instances before= 35717\n",
      "Number of attributes before= 4\n"
     ]
    }
   ],
   "source": [
    "print('Number of instances before= %d' % (data.shape[0]))\n",
    "print('Number of attributes before= %d' % (data.shape[1]))"
   ]
  },
  {
   "cell_type": "code",
   "execution_count": 55,
   "id": "be0cc90b",
   "metadata": {},
   "outputs": [
    {
     "name": "stdout",
     "output_type": "stream",
     "text": [
      "Number of instances before= 35501\n",
      "Number of attributes before= 4\n"
     ]
    }
   ],
   "source": [
    "data.dropna(inplace = True)\n",
    "data.drop_duplicates(keep='first',inplace=True)\n",
    "\n",
    "print('Number of instances before= %d' % (data.shape[0]))\n",
    "print('Number of attributes before= %d' % (data.shape[1]))"
   ]
  },
  {
   "cell_type": "code",
   "execution_count": 57,
   "id": "e80dd0b7",
   "metadata": {},
   "outputs": [
    {
     "data": {
      "text/html": [
       "<div>\n",
       "<style scoped>\n",
       "    .dataframe tbody tr th:only-of-type {\n",
       "        vertical-align: middle;\n",
       "    }\n",
       "\n",
       "    .dataframe tbody tr th {\n",
       "        vertical-align: top;\n",
       "    }\n",
       "\n",
       "    .dataframe thead th {\n",
       "        text-align: right;\n",
       "    }\n",
       "</style>\n",
       "<table border=\"1\" class=\"dataframe\">\n",
       "  <thead>\n",
       "    <tr style=\"text-align: right;\">\n",
       "      <th></th>\n",
       "      <th>Capacity</th>\n",
       "      <th>Occupancy</th>\n",
       "    </tr>\n",
       "  </thead>\n",
       "  <tbody>\n",
       "    <tr>\n",
       "      <th>count</th>\n",
       "      <td>35501.000000</td>\n",
       "      <td>35501.000000</td>\n",
       "    </tr>\n",
       "    <tr>\n",
       "      <th>mean</th>\n",
       "      <td>1399.242613</td>\n",
       "      <td>644.853582</td>\n",
       "    </tr>\n",
       "    <tr>\n",
       "      <th>std</th>\n",
       "      <td>1179.939451</td>\n",
       "      <td>657.822376</td>\n",
       "    </tr>\n",
       "    <tr>\n",
       "      <th>min</th>\n",
       "      <td>220.000000</td>\n",
       "      <td>-8.000000</td>\n",
       "    </tr>\n",
       "    <tr>\n",
       "      <th>25%</th>\n",
       "      <td>500.000000</td>\n",
       "      <td>212.000000</td>\n",
       "    </tr>\n",
       "    <tr>\n",
       "      <th>50%</th>\n",
       "      <td>863.000000</td>\n",
       "      <td>448.000000</td>\n",
       "    </tr>\n",
       "    <tr>\n",
       "      <th>75%</th>\n",
       "      <td>2009.000000</td>\n",
       "      <td>802.000000</td>\n",
       "    </tr>\n",
       "    <tr>\n",
       "      <th>max</th>\n",
       "      <td>4675.000000</td>\n",
       "      <td>4327.000000</td>\n",
       "    </tr>\n",
       "  </tbody>\n",
       "</table>\n",
       "</div>"
      ],
      "text/plain": [
       "           Capacity     Occupancy\n",
       "count  35501.000000  35501.000000\n",
       "mean    1399.242613    644.853582\n",
       "std     1179.939451    657.822376\n",
       "min      220.000000     -8.000000\n",
       "25%      500.000000    212.000000\n",
       "50%      863.000000    448.000000\n",
       "75%     2009.000000    802.000000\n",
       "max     4675.000000   4327.000000"
      ]
     },
     "execution_count": 57,
     "metadata": {},
     "output_type": "execute_result"
    }
   ],
   "source": [
    "data.describe()"
   ]
  },
  {
   "cell_type": "code",
   "execution_count": 58,
   "id": "1106d86e",
   "metadata": {},
   "outputs": [
    {
     "name": "stdout",
     "output_type": "stream",
     "text": [
      "<class 'pandas.core.frame.DataFrame'>\n",
      "Int64Index: 35501 entries, 0 to 35716\n",
      "Data columns (total 7 columns):\n",
      " #   Column            Non-Null Count  Dtype \n",
      "---  ------            --------------  ----- \n",
      " 0   SystemCodeNumber  35501 non-null  object\n",
      " 1   Capacity          35501 non-null  int64 \n",
      " 2   Occupancy         35501 non-null  int64 \n",
      " 3   LastUpdated       35501 non-null  object\n",
      " 4   Date              35501 non-null  object\n",
      " 5   Time              35501 non-null  object\n",
      " 6   Day               35501 non-null  object\n",
      "dtypes: int64(2), object(5)\n",
      "memory usage: 2.2+ MB\n"
     ]
    }
   ],
   "source": [
    "dateTime = data['LastUpdated'].str.split(\" \", n = 1, expand = True) \n",
    "date = dateTime[0]\n",
    "time = dateTime[1]\n",
    "data['Date'] = date\n",
    "data['Time'] = time\n",
    "day_name = ['Mon', 'Tue', 'Wed', 'Thu', 'Fri', 'Sat', 'Sun']\n",
    "data['Day'] = pd.to_datetime(data['Date']).dt.dayofweek.apply(lambda x: day_name[x])\n",
    "\n",
    "data.info()"
   ]
  },
  {
   "cell_type": "code",
   "execution_count": 60,
   "id": "16d62e31",
   "metadata": {},
   "outputs": [],
   "source": [
    "data['OccupancyRate'] = (100.0*data['Occupancy'])/data['Capacity']"
   ]
  },
  {
   "cell_type": "code",
   "execution_count": 67,
   "id": "9bb1e965",
   "metadata": {},
   "outputs": [
    {
     "data": {
      "text/html": [
       "<div>\n",
       "<style scoped>\n",
       "    .dataframe tbody tr th:only-of-type {\n",
       "        vertical-align: middle;\n",
       "    }\n",
       "\n",
       "    .dataframe tbody tr th {\n",
       "        vertical-align: top;\n",
       "    }\n",
       "\n",
       "    .dataframe thead th {\n",
       "        text-align: right;\n",
       "    }\n",
       "</style>\n",
       "<table border=\"1\" class=\"dataframe\">\n",
       "  <thead>\n",
       "    <tr style=\"text-align: right;\">\n",
       "      <th></th>\n",
       "      <th>SystemCodeNumber</th>\n",
       "      <th>Capacity</th>\n",
       "      <th>Occupancy</th>\n",
       "      <th>LastUpdated</th>\n",
       "      <th>Date</th>\n",
       "      <th>Time</th>\n",
       "      <th>Day</th>\n",
       "      <th>OccupancyRate</th>\n",
       "    </tr>\n",
       "  </thead>\n",
       "  <tbody>\n",
       "    <tr>\n",
       "      <th>0</th>\n",
       "      <td>BHMBCCMKT01</td>\n",
       "      <td>577</td>\n",
       "      <td>61</td>\n",
       "      <td>10/4/2016 7:59</td>\n",
       "      <td>10/4/2016</td>\n",
       "      <td>7:59</td>\n",
       "      <td>Tue</td>\n",
       "      <td>10.571924</td>\n",
       "    </tr>\n",
       "    <tr>\n",
       "      <th>1</th>\n",
       "      <td>BHMBCCMKT01</td>\n",
       "      <td>577</td>\n",
       "      <td>64</td>\n",
       "      <td>10/4/2016 8:25</td>\n",
       "      <td>10/4/2016</td>\n",
       "      <td>8:25</td>\n",
       "      <td>Tue</td>\n",
       "      <td>11.091854</td>\n",
       "    </tr>\n",
       "    <tr>\n",
       "      <th>2</th>\n",
       "      <td>BHMBCCMKT01</td>\n",
       "      <td>577</td>\n",
       "      <td>80</td>\n",
       "      <td>10/4/2016 8:59</td>\n",
       "      <td>10/4/2016</td>\n",
       "      <td>8:59</td>\n",
       "      <td>Tue</td>\n",
       "      <td>13.864818</td>\n",
       "    </tr>\n",
       "    <tr>\n",
       "      <th>3</th>\n",
       "      <td>BHMBCCMKT01</td>\n",
       "      <td>577</td>\n",
       "      <td>107</td>\n",
       "      <td>10/4/2016 9:32</td>\n",
       "      <td>10/4/2016</td>\n",
       "      <td>9:32</td>\n",
       "      <td>Tue</td>\n",
       "      <td>18.544194</td>\n",
       "    </tr>\n",
       "    <tr>\n",
       "      <th>4</th>\n",
       "      <td>BHMBCCMKT01</td>\n",
       "      <td>577</td>\n",
       "      <td>150</td>\n",
       "      <td>10/4/2016 9:59</td>\n",
       "      <td>10/4/2016</td>\n",
       "      <td>9:59</td>\n",
       "      <td>Tue</td>\n",
       "      <td>25.996534</td>\n",
       "    </tr>\n",
       "    <tr>\n",
       "      <th>...</th>\n",
       "      <td>...</td>\n",
       "      <td>...</td>\n",
       "      <td>...</td>\n",
       "      <td>...</td>\n",
       "      <td>...</td>\n",
       "      <td>...</td>\n",
       "      <td>...</td>\n",
       "      <td>...</td>\n",
       "    </tr>\n",
       "    <tr>\n",
       "      <th>35712</th>\n",
       "      <td>Shopping</td>\n",
       "      <td>1920</td>\n",
       "      <td>1517</td>\n",
       "      <td>12/19/2016 14:30</td>\n",
       "      <td>12/19/2016</td>\n",
       "      <td>14:30</td>\n",
       "      <td>Mon</td>\n",
       "      <td>79.010417</td>\n",
       "    </tr>\n",
       "    <tr>\n",
       "      <th>35713</th>\n",
       "      <td>Shopping</td>\n",
       "      <td>1920</td>\n",
       "      <td>1487</td>\n",
       "      <td>12/19/2016 15:03</td>\n",
       "      <td>12/19/2016</td>\n",
       "      <td>15:03</td>\n",
       "      <td>Mon</td>\n",
       "      <td>77.447917</td>\n",
       "    </tr>\n",
       "    <tr>\n",
       "      <th>35714</th>\n",
       "      <td>Shopping</td>\n",
       "      <td>1920</td>\n",
       "      <td>1432</td>\n",
       "      <td>12/19/2016 15:29</td>\n",
       "      <td>12/19/2016</td>\n",
       "      <td>15:29</td>\n",
       "      <td>Mon</td>\n",
       "      <td>74.583333</td>\n",
       "    </tr>\n",
       "    <tr>\n",
       "      <th>35715</th>\n",
       "      <td>Shopping</td>\n",
       "      <td>1920</td>\n",
       "      <td>1321</td>\n",
       "      <td>12/19/2016 16:03</td>\n",
       "      <td>12/19/2016</td>\n",
       "      <td>16:03</td>\n",
       "      <td>Mon</td>\n",
       "      <td>68.802083</td>\n",
       "    </tr>\n",
       "    <tr>\n",
       "      <th>35716</th>\n",
       "      <td>Shopping</td>\n",
       "      <td>1920</td>\n",
       "      <td>1180</td>\n",
       "      <td>12/19/2016 16:30</td>\n",
       "      <td>12/19/2016</td>\n",
       "      <td>16:30</td>\n",
       "      <td>Mon</td>\n",
       "      <td>61.458333</td>\n",
       "    </tr>\n",
       "  </tbody>\n",
       "</table>\n",
       "<p>35501 rows × 8 columns</p>\n",
       "</div>"
      ],
      "text/plain": [
       "      SystemCodeNumber  Capacity  Occupancy       LastUpdated        Date  \\\n",
       "0          BHMBCCMKT01       577         61    10/4/2016 7:59   10/4/2016   \n",
       "1          BHMBCCMKT01       577         64    10/4/2016 8:25   10/4/2016   \n",
       "2          BHMBCCMKT01       577         80    10/4/2016 8:59   10/4/2016   \n",
       "3          BHMBCCMKT01       577        107    10/4/2016 9:32   10/4/2016   \n",
       "4          BHMBCCMKT01       577        150    10/4/2016 9:59   10/4/2016   \n",
       "...                ...       ...        ...               ...         ...   \n",
       "35712         Shopping      1920       1517  12/19/2016 14:30  12/19/2016   \n",
       "35713         Shopping      1920       1487  12/19/2016 15:03  12/19/2016   \n",
       "35714         Shopping      1920       1432  12/19/2016 15:29  12/19/2016   \n",
       "35715         Shopping      1920       1321  12/19/2016 16:03  12/19/2016   \n",
       "35716         Shopping      1920       1180  12/19/2016 16:30  12/19/2016   \n",
       "\n",
       "        Time  Day  OccupancyRate  \n",
       "0       7:59  Tue      10.571924  \n",
       "1       8:25  Tue      11.091854  \n",
       "2       8:59  Tue      13.864818  \n",
       "3       9:32  Tue      18.544194  \n",
       "4       9:59  Tue      25.996534  \n",
       "...      ...  ...            ...  \n",
       "35712  14:30  Mon      79.010417  \n",
       "35713  15:03  Mon      77.447917  \n",
       "35714  15:29  Mon      74.583333  \n",
       "35715  16:03  Mon      68.802083  \n",
       "35716  16:30  Mon      61.458333  \n",
       "\n",
       "[35501 rows x 8 columns]"
      ]
     },
     "execution_count": 67,
     "metadata": {},
     "output_type": "execute_result"
    }
   ],
   "source": [
    "data"
   ]
  },
  {
   "cell_type": "code",
   "execution_count": 68,
   "id": "44dde1c6",
   "metadata": {},
   "outputs": [
    {
     "data": {
      "text/plain": [
       "<seaborn.axisgrid.FacetGrid at 0x19244c7b8e0>"
      ]
     },
     "execution_count": 68,
     "metadata": {},
     "output_type": "execute_result"
    },
    {
     "data": {
      "image/png": "[encoded data removed]",
      "text/plain": [
       "<Figure size 360x360 with 1 Axes>"
      ]
     },
     "metadata": {
      "needs_background": "light"
     },
     "output_type": "display_data"
    }
   ],
   "source": [
    "box = sns.catplot(x = \"Day\",y=\"OccupancyRate\",kind='box',data=data)\n",
    "box.set(xlabel=\"Week Days\", ylabel = \"OccupancyRate\")"
   ]
  },
  {
   "cell_type": "code",
   "execution_count": 69,
   "id": "cd5ba779",
   "metadata": {},
   "outputs": [
    {
     "data": {
      "text/plain": [
       "<seaborn.axisgrid.FacetGrid at 0x192438dfb80>"
      ]
     },
     "execution_count": 69,
     "metadata": {},
     "output_type": "execute_result"
    },
    {
     "data": {
      "image/png": "[encoded data removed]",
      "text/plain": [
       "<Figure size 360x360 with 1 Axes>"
      ]
     },
     "metadata": {
      "needs_background": "light"
     },
     "output_type": "display_data"
    }
   ],
   "source": [
    "graph = sns.catplot(x='Day', kind='count', data=data)\n",
    "graph.fig.autofmt_xdate()\n",
    "graph.set(xlabel=\"Week Days\", ylabel = \"Count\")"
   ]
  },
  {
   "cell_type": "code",
   "execution_count": null,
   "id": "c73c9175",
   "metadata": {},
   "outputs": [],
   "source": []
  }
 ],
 "metadata": {
  "kernelspec": {
   "display_name": "Python 3",
   "language": "python",
   "name": "python3"
  },
  "language_info": {
   "codemirror_mode": {
    "name": "ipython",
    "version": 3
   },
   "file_extension": ".py",
   "mimetype": "text/x-python",
   "name": "python",
   "nbconvert_exporter": "python",
   "pygments_lexer": "ipython3",
   "version": "3.8.8"
  }
 },
 "nbformat": 4,
 "nbformat_minor": 5
}
